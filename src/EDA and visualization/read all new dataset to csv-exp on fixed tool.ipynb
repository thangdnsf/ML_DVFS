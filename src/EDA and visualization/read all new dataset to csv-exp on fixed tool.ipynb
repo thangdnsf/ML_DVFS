{
 "cells": [
  {
   "cell_type": "code",
   "execution_count": 1,
   "metadata": {},
   "outputs": [],
   "source": [
    "import pandas as pd\n",
    "import os\n",
    "import numpy as np\n",
    "from expetator.tools import read_experiment, show_heatmap, add_objectives\n",
    "#from expetator.tools import prune_vectors, mojitos_to_vectors, show_pct_distribution\n",
    "from expetator.monitors import mojitos\n",
    "import matplotlib.pyplot as plt"
   ]
  },
  {
   "cell_type": "markdown",
   "metadata": {},
   "source": [
    "### Notes\n",
    "- Nancy/gros & graphite no power\n",
    "- Lyon/nova"
   ]
  },
  {
   "cell_type": "code",
   "execution_count": 2,
   "metadata": {},
   "outputs": [],
   "source": [
    "PATH = \"../../../dataset\"\n",
    "from scipy.stats import trim_mean\n",
    "def mojitos_to_vectors_thang(mojitos_data, knowledge, proportiontocut=.1):\n",
    "    tmp = [pd.DataFrame([trim_mean(bench_run, proportiontocut=proportiontocut)],\n",
    "                          columns = bench_run.columns) for bench_run in mojitos_data]\n",
    "    tmp = pd.concat(tmp, ignore_index=True)\n",
    "    tmp['freq'] = knowledge.fmax\n",
    "    return tmp"
   ]
  },
  {
   "cell_type": "code",
   "execution_count": 3,
   "metadata": {},
   "outputs": [],
   "source": [
    "def loadDataset(paths):\n",
    "    #load all files\n",
    "    basename = []\n",
    "    for path in paths:\n",
    "        if path.endswith('.zip'):\n",
    "            basename.append(path)\n",
    "        else:\n",
    "            for file in os.listdir(path):\n",
    "                if os.path.isfile(os.path.join(path,file)) and file != '.DS_Store'\\\n",
    "                    and os.stat(os.path.join(path,file)).st_size > 1000:\n",
    "                    basename.append(os.path.join(path,file))\n",
    "    #print(basename)\n",
    "    #read dataset\n",
    "    knowledge, mojitos_data = read_experiment(basename, only_complete=True)\n",
    "    #drop row where num of columns < 46: #{7, 28, 46, 48, 50}\n",
    "    numcolslist = [len(a.columns) for a in mojitos_data]\n",
    "    \n",
    "    knowledge = knowledge.drop(np.where(np.array(numcolslist) < 46)[0]).reset_index(drop=True)\n",
    "    for i in np.where(np.array(numcolslist) < 46)[0][::-1]:\n",
    "        mojitos_data.pop(i)\n",
    "    \n",
    "    vectors = mojitos_to_vectors_thang(mojitos_data, knowledge)\n",
    "    #drop experiments have inf/ 0 in power\n",
    "    exper = (set(knowledge.expe) - set(knowledge[knowledge.power == float('inf')].expe)) - set(knowledge[knowledge.power == 0].expe)\n",
    "    \n",
    "    knowledge = knowledge[knowledge.expe.isin(exper)]\n",
    "    vectors = vectors[vectors.index.isin(knowledge.index)].reset_index(drop=True)\n",
    "    knowledge = knowledge.reset_index(drop=True)\n",
    "    \n",
    "    #create targets\n",
    "    knowledge_metric = []\n",
    "    vectors_metric = []\n",
    "    for metric in ['energy', 'duration', 'etp']:\n",
    "        knowledge_temp = knowledge.copy()\n",
    "        knowledge_temp['metric'] = metric\n",
    "        _ = add_objectives(knowledge_temp, objective_name='target', group_label='expe', metric=metric, ratio=1.05, stay_is_zero=False)\n",
    "        _ = add_objectives(knowledge_temp, objective_name='targetZ', group_label='expe', metric=metric, ratio=1.05, stay_is_zero=True)\n",
    "        knowledge_metric.append(knowledge_temp)\n",
    "        vectors_metric.append(vectors)\n",
    "    knowledge_metric = pd.concat(knowledge_metric, ignore_index=True)\n",
    "    vectors_metric = pd.concat(vectors_metric, ignore_index=True)\n",
    "    return knowledge_metric, vectors_metric"
   ]
  },
  {
   "cell_type": "code",
   "execution_count": 4,
   "metadata": {},
   "outputs": [
    {
     "name": "stdout",
     "output_type": "stream",
     "text": [
      "uncompleted file: ../../../dataset/fixedtool-Dataset/grisou/0_allpct_grisou-22.nancy.grid5000.fr_1606934430\n",
      "error _data[0][1]) <= 4 ../../../dataset/fixedtool-Dataset/paravance/0_allpct_paravance-14.rennes.grid5000.fr_1606847676_power/paravance-14.rennes.grid5000.fr_ft-C-64_1606853007\n",
      "error _data[0][1]) <= 4 ../../../dataset/fixedtool-Dataset/paravance/0_allpct_paravance-14.rennes.grid5000.fr_1606847676_power/paravance-14.rennes.grid5000.fr_ft-C-64_1606853034\n"
     ]
    }
   ],
   "source": [
    "paths = [PATH+'/fixedtool-Dataset/'+name for name in ['grisou','grimoire','paravance','taurus']]\n",
    "#paths.extend(['../../datasets/large/0_allpct_grisou-1.nancy.grid5000.fr_1589456512.zip',\n",
    "# '../../datasets/large/0_allpct_grisou-1.nancy.grid5000.fr_1589492304.zip',\n",
    "# '../../datasets/large/0_allpct_grisou-1.nancy.grid5000.fr_1589554681.zip',\n",
    "# '../../datasets/large/0_allpct_grisou-1.nancy.grid5000.fr_1589565839.zip',\n",
    "# '../../datasets/large/0_allpct_grisou-15.nancy.grid5000.fr_1589459642.zip'])\n",
    "knowledge,vectors = loadDataset(paths)"
   ]
  },
  {
   "cell_type": "code",
   "execution_count": 5,
   "metadata": {},
   "outputs": [],
   "source": [
    "knowledge.to_csv(\"../csvs/knowledge_allmetrics.csv\", index=False)"
   ]
  },
  {
   "cell_type": "code",
   "execution_count": 6,
   "metadata": {},
   "outputs": [],
   "source": [
    "vectors.to_csv(\"../csvs/newvectors_allmetrics.csv\", index=False)"
   ]
  },
  {
   "cell_type": "code",
   "execution_count": 10,
   "metadata": {},
   "outputs": [
    {
     "data": {
      "text/html": [
       "<div>\n",
       "<style scoped>\n",
       "    .dataframe tbody tr th:only-of-type {\n",
       "        vertical-align: middle;\n",
       "    }\n",
       "\n",
       "    .dataframe tbody tr th {\n",
       "        vertical-align: top;\n",
       "    }\n",
       "\n",
       "    .dataframe thead th {\n",
       "        text-align: right;\n",
       "    }\n",
       "</style>\n",
       "<table border=\"1\" class=\"dataframe\">\n",
       "  <thead>\n",
       "    <tr style=\"text-align: right;\">\n",
       "      <th></th>\n",
       "      <th>hostname</th>\n",
       "      <th>fullname</th>\n",
       "      <th>nproc</th>\n",
       "      <th>duration</th>\n",
       "      <th>startTime</th>\n",
       "      <th>endTime</th>\n",
       "      <th>fmin</th>\n",
       "      <th>fmax</th>\n",
       "      <th>hostlist</th>\n",
       "      <th>basename</th>\n",
       "      <th>expe</th>\n",
       "      <th>power</th>\n",
       "      <th>energy</th>\n",
       "      <th>etp</th>\n",
       "      <th>metric</th>\n",
       "      <th>target</th>\n",
       "      <th>targetZ</th>\n",
       "    </tr>\n",
       "  </thead>\n",
       "  <tbody>\n",
       "  </tbody>\n",
       "</table>\n",
       "</div>"
      ],
      "text/plain": [
       "Empty DataFrame\n",
       "Columns: [hostname, fullname, nproc, duration, startTime, endTime, fmin, fmax, hostlist, basename, expe, power, energy, etp, metric, target, targetZ]\n",
       "Index: []"
      ]
     },
     "execution_count": 10,
     "metadata": {},
     "output_type": "execute_result"
    }
   ],
   "source": [
    "knowledge[knowledge.power == float('inf')]"
   ]
  },
  {
   "cell_type": "code",
   "execution_count": 9,
   "metadata": {},
   "outputs": [
    {
     "data": {
      "text/html": [
       "<div>\n",
       "<style scoped>\n",
       "    .dataframe tbody tr th:only-of-type {\n",
       "        vertical-align: middle;\n",
       "    }\n",
       "\n",
       "    .dataframe tbody tr th {\n",
       "        vertical-align: top;\n",
       "    }\n",
       "\n",
       "    .dataframe thead th {\n",
       "        text-align: right;\n",
       "    }\n",
       "</style>\n",
       "<table border=\"1\" class=\"dataframe\">\n",
       "  <thead>\n",
       "    <tr style=\"text-align: right;\">\n",
       "      <th></th>\n",
       "      <th>cache_dtlb</th>\n",
       "      <th>cache_bpu</th>\n",
       "      <th>cache_op_prefetch</th>\n",
       "      <th>branch_misses</th>\n",
       "      <th>instructions</th>\n",
       "      <th>branch_instructions</th>\n",
       "      <th>bpf_output</th>\n",
       "      <th>ref_cpu_cycles</th>\n",
       "      <th>page_faults</th>\n",
       "      <th>cache_node</th>\n",
       "      <th>...</th>\n",
       "      <th>steal</th>\n",
       "      <th>guest</th>\n",
       "      <th>guest_nice</th>\n",
       "      <th>irxp</th>\n",
       "      <th>irxb</th>\n",
       "      <th>itxp</th>\n",
       "      <th>itxb</th>\n",
       "      <th>core0</th>\n",
       "      <th>core1</th>\n",
       "      <th>freq</th>\n",
       "    </tr>\n",
       "  </thead>\n",
       "  <tbody>\n",
       "    <tr>\n",
       "      <th>0</th>\n",
       "      <td>6.396583e+07</td>\n",
       "      <td>3.299885e+07</td>\n",
       "      <td>59954.052577</td>\n",
       "      <td>2.928558e+06</td>\n",
       "      <td>4.872025e+08</td>\n",
       "      <td>6.846609e+07</td>\n",
       "      <td>0.0</td>\n",
       "      <td>1.284483e+09</td>\n",
       "      <td>0.016495</td>\n",
       "      <td>63.669072</td>\n",
       "      <td>...</td>\n",
       "      <td>0.0</td>\n",
       "      <td>0.0</td>\n",
       "      <td>0.0</td>\n",
       "      <td>NaN</td>\n",
       "      <td>NaN</td>\n",
       "      <td>NaN</td>\n",
       "      <td>NaN</td>\n",
       "      <td>NaN</td>\n",
       "      <td>NaN</td>\n",
       "      <td>1200000</td>\n",
       "    </tr>\n",
       "    <tr>\n",
       "      <th>1</th>\n",
       "      <td>6.806504e+07</td>\n",
       "      <td>3.154514e+07</td>\n",
       "      <td>62435.386845</td>\n",
       "      <td>3.174770e+06</td>\n",
       "      <td>5.283426e+08</td>\n",
       "      <td>7.425137e+07</td>\n",
       "      <td>0.0</td>\n",
       "      <td>1.285800e+09</td>\n",
       "      <td>0.056856</td>\n",
       "      <td>97.885173</td>\n",
       "      <td>...</td>\n",
       "      <td>0.0</td>\n",
       "      <td>0.0</td>\n",
       "      <td>0.0</td>\n",
       "      <td>NaN</td>\n",
       "      <td>NaN</td>\n",
       "      <td>NaN</td>\n",
       "      <td>NaN</td>\n",
       "      <td>NaN</td>\n",
       "      <td>NaN</td>\n",
       "      <td>1300000</td>\n",
       "    </tr>\n",
       "    <tr>\n",
       "      <th>2</th>\n",
       "      <td>8.107901e+07</td>\n",
       "      <td>3.840014e+07</td>\n",
       "      <td>67307.710684</td>\n",
       "      <td>3.161835e+06</td>\n",
       "      <td>5.375613e+08</td>\n",
       "      <td>7.632447e+07</td>\n",
       "      <td>0.0</td>\n",
       "      <td>1.239158e+09</td>\n",
       "      <td>0.002401</td>\n",
       "      <td>74.558223</td>\n",
       "      <td>...</td>\n",
       "      <td>0.0</td>\n",
       "      <td>0.0</td>\n",
       "      <td>0.0</td>\n",
       "      <td>NaN</td>\n",
       "      <td>NaN</td>\n",
       "      <td>NaN</td>\n",
       "      <td>NaN</td>\n",
       "      <td>NaN</td>\n",
       "      <td>NaN</td>\n",
       "      <td>1400000</td>\n",
       "    </tr>\n",
       "    <tr>\n",
       "      <th>3</th>\n",
       "      <td>8.688359e+07</td>\n",
       "      <td>4.039344e+07</td>\n",
       "      <td>65662.779923</td>\n",
       "      <td>3.685309e+06</td>\n",
       "      <td>6.126359e+08</td>\n",
       "      <td>8.589864e+07</td>\n",
       "      <td>0.0</td>\n",
       "      <td>1.288549e+09</td>\n",
       "      <td>0.000000</td>\n",
       "      <td>62.218790</td>\n",
       "      <td>...</td>\n",
       "      <td>0.0</td>\n",
       "      <td>0.0</td>\n",
       "      <td>0.0</td>\n",
       "      <td>NaN</td>\n",
       "      <td>NaN</td>\n",
       "      <td>NaN</td>\n",
       "      <td>NaN</td>\n",
       "      <td>NaN</td>\n",
       "      <td>NaN</td>\n",
       "      <td>1500000</td>\n",
       "    </tr>\n",
       "    <tr>\n",
       "      <th>4</th>\n",
       "      <td>9.345775e+07</td>\n",
       "      <td>4.500695e+07</td>\n",
       "      <td>68243.347527</td>\n",
       "      <td>3.941156e+06</td>\n",
       "      <td>6.547707e+08</td>\n",
       "      <td>9.176511e+07</td>\n",
       "      <td>0.0</td>\n",
       "      <td>1.290988e+09</td>\n",
       "      <td>0.000000</td>\n",
       "      <td>69.934066</td>\n",
       "      <td>...</td>\n",
       "      <td>0.0</td>\n",
       "      <td>0.0</td>\n",
       "      <td>0.0</td>\n",
       "      <td>NaN</td>\n",
       "      <td>NaN</td>\n",
       "      <td>NaN</td>\n",
       "      <td>NaN</td>\n",
       "      <td>NaN</td>\n",
       "      <td>NaN</td>\n",
       "      <td>1600000</td>\n",
       "    </tr>\n",
       "    <tr>\n",
       "      <th>...</th>\n",
       "      <td>...</td>\n",
       "      <td>...</td>\n",
       "      <td>...</td>\n",
       "      <td>...</td>\n",
       "      <td>...</td>\n",
       "      <td>...</td>\n",
       "      <td>...</td>\n",
       "      <td>...</td>\n",
       "      <td>...</td>\n",
       "      <td>...</td>\n",
       "      <td>...</td>\n",
       "      <td>...</td>\n",
       "      <td>...</td>\n",
       "      <td>...</td>\n",
       "      <td>...</td>\n",
       "      <td>...</td>\n",
       "      <td>...</td>\n",
       "      <td>...</td>\n",
       "      <td>...</td>\n",
       "      <td>...</td>\n",
       "      <td>...</td>\n",
       "    </tr>\n",
       "    <tr>\n",
       "      <th>15445</th>\n",
       "      <td>1.120450e+08</td>\n",
       "      <td>4.413004e+07</td>\n",
       "      <td>283083.075747</td>\n",
       "      <td>1.881452e+06</td>\n",
       "      <td>4.073547e+08</td>\n",
       "      <td>7.049690e+07</td>\n",
       "      <td>0.0</td>\n",
       "      <td>5.904421e+08</td>\n",
       "      <td>11.725504</td>\n",
       "      <td>106103.558721</td>\n",
       "      <td>...</td>\n",
       "      <td>0.0</td>\n",
       "      <td>0.0</td>\n",
       "      <td>0.0</td>\n",
       "      <td>NaN</td>\n",
       "      <td>NaN</td>\n",
       "      <td>NaN</td>\n",
       "      <td>NaN</td>\n",
       "      <td>2.681317e+06</td>\n",
       "      <td>2.669892e+06</td>\n",
       "      <td>1900000</td>\n",
       "    </tr>\n",
       "    <tr>\n",
       "      <th>15446</th>\n",
       "      <td>9.771582e+07</td>\n",
       "      <td>4.217659e+07</td>\n",
       "      <td>336889.442105</td>\n",
       "      <td>1.495939e+06</td>\n",
       "      <td>3.593532e+08</td>\n",
       "      <td>6.238076e+07</td>\n",
       "      <td>0.0</td>\n",
       "      <td>4.980004e+08</td>\n",
       "      <td>11.503860</td>\n",
       "      <td>75663.862456</td>\n",
       "      <td>...</td>\n",
       "      <td>0.0</td>\n",
       "      <td>0.0</td>\n",
       "      <td>0.0</td>\n",
       "      <td>NaN</td>\n",
       "      <td>NaN</td>\n",
       "      <td>NaN</td>\n",
       "      <td>NaN</td>\n",
       "      <td>2.938713e+06</td>\n",
       "      <td>2.922680e+06</td>\n",
       "      <td>2000000</td>\n",
       "    </tr>\n",
       "    <tr>\n",
       "      <th>15447</th>\n",
       "      <td>7.614058e+07</td>\n",
       "      <td>3.262035e+07</td>\n",
       "      <td>227539.251416</td>\n",
       "      <td>1.143488e+06</td>\n",
       "      <td>2.631998e+08</td>\n",
       "      <td>4.585664e+07</td>\n",
       "      <td>0.0</td>\n",
       "      <td>3.467478e+08</td>\n",
       "      <td>0.589943</td>\n",
       "      <td>53829.384561</td>\n",
       "      <td>...</td>\n",
       "      <td>0.0</td>\n",
       "      <td>0.0</td>\n",
       "      <td>0.0</td>\n",
       "      <td>NaN</td>\n",
       "      <td>NaN</td>\n",
       "      <td>NaN</td>\n",
       "      <td>NaN</td>\n",
       "      <td>3.223003e+06</td>\n",
       "      <td>3.191862e+06</td>\n",
       "      <td>2100000</td>\n",
       "    </tr>\n",
       "    <tr>\n",
       "      <th>15448</th>\n",
       "      <td>1.313228e+08</td>\n",
       "      <td>6.467930e+07</td>\n",
       "      <td>358948.892958</td>\n",
       "      <td>2.439175e+06</td>\n",
       "      <td>5.115383e+08</td>\n",
       "      <td>8.953615e+07</td>\n",
       "      <td>0.0</td>\n",
       "      <td>6.377854e+08</td>\n",
       "      <td>2.172535</td>\n",
       "      <td>124665.668310</td>\n",
       "      <td>...</td>\n",
       "      <td>0.0</td>\n",
       "      <td>0.0</td>\n",
       "      <td>0.0</td>\n",
       "      <td>NaN</td>\n",
       "      <td>NaN</td>\n",
       "      <td>NaN</td>\n",
       "      <td>NaN</td>\n",
       "      <td>3.492710e+06</td>\n",
       "      <td>3.480183e+06</td>\n",
       "      <td>2200000</td>\n",
       "    </tr>\n",
       "    <tr>\n",
       "      <th>15449</th>\n",
       "      <td>1.021578e+08</td>\n",
       "      <td>3.730170e+07</td>\n",
       "      <td>240220.799020</td>\n",
       "      <td>1.539968e+06</td>\n",
       "      <td>3.443723e+08</td>\n",
       "      <td>6.038241e+07</td>\n",
       "      <td>0.0</td>\n",
       "      <td>4.158953e+08</td>\n",
       "      <td>2.518207</td>\n",
       "      <td>66527.900560</td>\n",
       "      <td>...</td>\n",
       "      <td>0.0</td>\n",
       "      <td>0.0</td>\n",
       "      <td>0.0</td>\n",
       "      <td>NaN</td>\n",
       "      <td>NaN</td>\n",
       "      <td>NaN</td>\n",
       "      <td>NaN</td>\n",
       "      <td>3.825472e+06</td>\n",
       "      <td>3.774624e+06</td>\n",
       "      <td>2300000</td>\n",
       "    </tr>\n",
       "  </tbody>\n",
       "</table>\n",
       "<p>15450 rows × 53 columns</p>\n",
       "</div>"
      ],
      "text/plain": [
       "         cache_dtlb     cache_bpu  cache_op_prefetch  branch_misses  \\\n",
       "0      6.396583e+07  3.299885e+07       59954.052577   2.928558e+06   \n",
       "1      6.806504e+07  3.154514e+07       62435.386845   3.174770e+06   \n",
       "2      8.107901e+07  3.840014e+07       67307.710684   3.161835e+06   \n",
       "3      8.688359e+07  4.039344e+07       65662.779923   3.685309e+06   \n",
       "4      9.345775e+07  4.500695e+07       68243.347527   3.941156e+06   \n",
       "...             ...           ...                ...            ...   \n",
       "15445  1.120450e+08  4.413004e+07      283083.075747   1.881452e+06   \n",
       "15446  9.771582e+07  4.217659e+07      336889.442105   1.495939e+06   \n",
       "15447  7.614058e+07  3.262035e+07      227539.251416   1.143488e+06   \n",
       "15448  1.313228e+08  6.467930e+07      358948.892958   2.439175e+06   \n",
       "15449  1.021578e+08  3.730170e+07      240220.799020   1.539968e+06   \n",
       "\n",
       "       instructions  branch_instructions  bpf_output  ref_cpu_cycles  \\\n",
       "0      4.872025e+08         6.846609e+07         0.0    1.284483e+09   \n",
       "1      5.283426e+08         7.425137e+07         0.0    1.285800e+09   \n",
       "2      5.375613e+08         7.632447e+07         0.0    1.239158e+09   \n",
       "3      6.126359e+08         8.589864e+07         0.0    1.288549e+09   \n",
       "4      6.547707e+08         9.176511e+07         0.0    1.290988e+09   \n",
       "...             ...                  ...         ...             ...   \n",
       "15445  4.073547e+08         7.049690e+07         0.0    5.904421e+08   \n",
       "15446  3.593532e+08         6.238076e+07         0.0    4.980004e+08   \n",
       "15447  2.631998e+08         4.585664e+07         0.0    3.467478e+08   \n",
       "15448  5.115383e+08         8.953615e+07         0.0    6.377854e+08   \n",
       "15449  3.443723e+08         6.038241e+07         0.0    4.158953e+08   \n",
       "\n",
       "       page_faults     cache_node  ...  steal  guest  guest_nice  irxp  irxb  \\\n",
       "0         0.016495      63.669072  ...    0.0    0.0         0.0   NaN   NaN   \n",
       "1         0.056856      97.885173  ...    0.0    0.0         0.0   NaN   NaN   \n",
       "2         0.002401      74.558223  ...    0.0    0.0         0.0   NaN   NaN   \n",
       "3         0.000000      62.218790  ...    0.0    0.0         0.0   NaN   NaN   \n",
       "4         0.000000      69.934066  ...    0.0    0.0         0.0   NaN   NaN   \n",
       "...            ...            ...  ...    ...    ...         ...   ...   ...   \n",
       "15445    11.725504  106103.558721  ...    0.0    0.0         0.0   NaN   NaN   \n",
       "15446    11.503860   75663.862456  ...    0.0    0.0         0.0   NaN   NaN   \n",
       "15447     0.589943   53829.384561  ...    0.0    0.0         0.0   NaN   NaN   \n",
       "15448     2.172535  124665.668310  ...    0.0    0.0         0.0   NaN   NaN   \n",
       "15449     2.518207   66527.900560  ...    0.0    0.0         0.0   NaN   NaN   \n",
       "\n",
       "       itxp  itxb         core0         core1     freq  \n",
       "0       NaN   NaN           NaN           NaN  1200000  \n",
       "1       NaN   NaN           NaN           NaN  1300000  \n",
       "2       NaN   NaN           NaN           NaN  1400000  \n",
       "3       NaN   NaN           NaN           NaN  1500000  \n",
       "4       NaN   NaN           NaN           NaN  1600000  \n",
       "...     ...   ...           ...           ...      ...  \n",
       "15445   NaN   NaN  2.681317e+06  2.669892e+06  1900000  \n",
       "15446   NaN   NaN  2.938713e+06  2.922680e+06  2000000  \n",
       "15447   NaN   NaN  3.223003e+06  3.191862e+06  2100000  \n",
       "15448   NaN   NaN  3.492710e+06  3.480183e+06  2200000  \n",
       "15449   NaN   NaN  3.825472e+06  3.774624e+06  2300000  \n",
       "\n",
       "[15450 rows x 53 columns]"
      ]
     },
     "execution_count": 9,
     "metadata": {},
     "output_type": "execute_result"
    }
   ],
   "source": [
    "vectors"
   ]
  },
  {
   "cell_type": "code",
   "execution_count": 1,
   "metadata": {},
   "outputs": [],
   "source": [
    "import numpy as np"
   ]
  },
  {
   "cell_type": "code",
   "execution_count": 25,
   "metadata": {},
   "outputs": [],
   "source": [
    "alis= np.array([[1.2,3]])\n",
    "blis= np.array([[1,2],[3,4]])"
   ]
  },
  {
   "cell_type": "code",
   "execution_count": 26,
   "metadata": {},
   "outputs": [
    {
     "data": {
      "text/plain": [
       "(1, 2)"
      ]
     },
     "execution_count": 26,
     "metadata": {},
     "output_type": "execute_result"
    }
   ],
   "source": [
    "alis.shape"
   ]
  },
  {
   "cell_type": "code",
   "execution_count": 27,
   "metadata": {},
   "outputs": [
    {
     "data": {
      "text/plain": [
       "(2, 2)"
      ]
     },
     "execution_count": 27,
     "metadata": {},
     "output_type": "execute_result"
    }
   ],
   "source": [
    "blis.shape"
   ]
  },
  {
   "cell_type": "code",
   "execution_count": 28,
   "metadata": {},
   "outputs": [
    {
     "data": {
      "text/plain": [
       "array([[1.2, 3. ],\n",
       "       [1. , 2. ],\n",
       "       [3. , 4. ]])"
      ]
     },
     "execution_count": 28,
     "metadata": {},
     "output_type": "execute_result"
    }
   ],
   "source": [
    "np.append(alis,blis,axis = 0)"
   ]
  },
  {
   "cell_type": "code",
   "execution_count": 17,
   "metadata": {},
   "outputs": [],
   "source": [
    "a = []"
   ]
  },
  {
   "cell_type": "code",
   "execution_count": 18,
   "metadata": {},
   "outputs": [],
   "source": [
    "a.append([1,2])"
   ]
  },
  {
   "cell_type": "code",
   "execution_count": 20,
   "metadata": {},
   "outputs": [],
   "source": [
    "a.append([3,4])"
   ]
  },
  {
   "cell_type": "code",
   "execution_count": 22,
   "metadata": {},
   "outputs": [
    {
     "data": {
      "text/plain": [
       "array([[1, 2],\n",
       "       [3, 4]])"
      ]
     },
     "execution_count": 22,
     "metadata": {},
     "output_type": "execute_result"
    }
   ],
   "source": [
    "np.array(a)"
   ]
  },
  {
   "cell_type": "code",
   "execution_count": 23,
   "metadata": {},
   "outputs": [],
   "source": [
    "a.append(['a','v'])"
   ]
  },
  {
   "cell_type": "code",
   "execution_count": 24,
   "metadata": {},
   "outputs": [
    {
     "data": {
      "text/plain": [
       "[[1, 2], [3, 4], ['a', 'v']]"
      ]
     },
     "execution_count": 24,
     "metadata": {},
     "output_type": "execute_result"
    }
   ],
   "source": [
    "a"
   ]
  },
  {
   "cell_type": "code",
   "execution_count": null,
   "metadata": {},
   "outputs": [],
   "source": []
  }
 ],
 "metadata": {
  "kernelspec": {
   "display_name": "Python 3",
   "language": "python",
   "name": "python3"
  },
  "language_info": {
   "codemirror_mode": {
    "name": "ipython",
    "version": 3
   },
   "file_extension": ".py",
   "mimetype": "text/x-python",
   "name": "python",
   "nbconvert_exporter": "python",
   "pygments_lexer": "ipython3",
   "version": "3.7.9"
  }
 },
 "nbformat": 4,
 "nbformat_minor": 4
}
